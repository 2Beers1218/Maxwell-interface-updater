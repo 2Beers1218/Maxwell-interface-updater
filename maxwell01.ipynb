{
 "cells": [
  {
   "cell_type": "code",
   "execution_count": 1,
   "metadata": {},
   "outputs": [],
   "source": [
    "interface_training = []\n",
    "solution_training = []\n",
    "target_training = []"
   ]
  },
  {
   "cell_type": "code",
   "execution_count": 2,
   "metadata": {},
   "outputs": [
    {
     "name": "stdout",
     "output_type": "stream",
     "text": [
      "torch.Size([592, 16])\n",
      "torch.Size([592, 8])\n"
     ]
    }
   ],
   "source": [
    "import torch\n",
    "import csv\n",
    "\n",
    "def csv_to_list(csv_reader_object, list_object):\n",
    "    for row in csv_reader_object:\n",
    "        full_row = []\n",
    "        for i in range(4):\n",
    "            col = row[i].replace('(', '')\n",
    "            col = col.replace(')', '')\n",
    "            col = col.replace(',', ' ')\n",
    "            col = col.split()\n",
    "            full_row += [float(col[j]) for j in range(2)]\n",
    "        list_object += [full_row]\n",
    "        \n",
    "if torch.is_tensor(interface_training):\n",
    "    interface_training = interface_training.tolist()\n",
    "    \n",
    "if torch.is_tensor(solution_training):\n",
    "    solution_training = solution_training.tolist()\n",
    "    \n",
    "if torch.is_tensor(target_training):\n",
    "    target_training = target_training.tolist()\n",
    "\n",
    "        \n",
    "with open('training_data/interface_1_0_1_training.csv') as csvdatei4:\n",
    "    csv_reader_object4 = csv.reader(csvdatei4, delimiter=';')\n",
    "    csv_to_list(csv_reader_object4, interface_training)\n",
    "        \n",
    "        \n",
    "with open('training_data/solution_1_1_training.csv') as csvdatei5:\n",
    "    csv_reader_object5 = csv.reader(csvdatei5, delimiter=';')\n",
    "    csv_to_list(csv_reader_object5, solution_training)\n",
    "        \n",
    "        \n",
    "with open('training_data/interface_0_1_4_training.csv') as csvdatei6:\n",
    "    csv_reader_object6 = csv.reader(csvdatei6, delimiter=';')\n",
    "    csv_to_list(csv_reader_object6, target_training)\n",
    "        \n",
    "interface_training = torch.Tensor(interface_training)\n",
    "#print(interface)\n",
    "\n",
    "solution_training = torch.Tensor(solution_training)\n",
    "#print(solution)\n",
    "\n",
    "inp_training = torch.cat((interface_training, solution_training), 1)\n",
    "#inp = solution\n",
    "print(inp_training.size())\n",
    "\n",
    "target_training = torch.Tensor(target_training)\n",
    "#target += interface\n",
    "print(target_training.size())\n",
    "#print(inp)"
   ]
  },
  {
   "cell_type": "code",
   "execution_count": 3,
   "metadata": {},
   "outputs": [
    {
     "name": "stdout",
     "output_type": "stream",
     "text": [
      "torch.Size([16, 16])\n",
      "torch.Size([16, 8])\n"
     ]
    }
   ],
   "source": [
    "interface_test = []\n",
    "solution_test = []\n",
    "target_test = []\n",
    "\n",
    "with open('training_data/interface_1_0_1_test.csv') as csvdatei4:\n",
    "    csv_reader_object4 = csv.reader(csvdatei4, delimiter=';')\n",
    "    csv_to_list(csv_reader_object4, interface_test)\n",
    "        \n",
    "        \n",
    "with open('training_data/solution_1_1_test.csv') as csvdatei5:\n",
    "    csv_reader_object5 = csv.reader(csvdatei5, delimiter=';')\n",
    "    csv_to_list(csv_reader_object5, solution_test)\n",
    "        \n",
    "        \n",
    "with open('training_data/interface_0_1_4_test.csv') as csvdatei6:\n",
    "    csv_reader_object6 = csv.reader(csvdatei6, delimiter=';')\n",
    "    csv_to_list(csv_reader_object6, target_test)\n",
    "        \n",
    "interface_test = torch.Tensor(interface_test)\n",
    "#print(interface_test)\n",
    "\n",
    "solution_test = torch.Tensor(solution_test)\n",
    "#print(solution_test)\n",
    "\n",
    "inp_test = torch.cat((interface_test, solution_test), 1)\n",
    "#inp_test = solution_test\n",
    "print(inp_test.size())\n",
    "\n",
    "target_test = torch.Tensor(target_test)\n",
    "#target_test += interface_test\n",
    "print(target_test.size())\n",
    "#print(inp_test)"
   ]
  },
  {
   "cell_type": "code",
   "execution_count": 4,
   "metadata": {},
   "outputs": [
    {
     "name": "stdout",
     "output_type": "stream",
     "text": [
      "Maxwell(\n",
      "  (lin1): Linear(in_features=16, out_features=500, bias=True)\n",
      "  (lin2): Linear(in_features=500, out_features=8, bias=True)\n",
      ")\n"
     ]
    }
   ],
   "source": [
    "import torch.nn as nn\n",
    "import torch.nn.functional as F\n",
    "\n",
    "class Maxwell(nn.Module): \n",
    "    def __init__(self): \n",
    "        super(Maxwell, self).__init__()\n",
    "        self.lin1 = nn.Linear(16, 500) \n",
    "        self.lin2 = nn.Linear(500, 8) \n",
    "        \n",
    "    def forward(self, x): \n",
    "        x = torch.sigmoid(self.lin1(x)) \n",
    "        #x = F.relu(self.lin1(x))\n",
    "        x = self.lin2(x) \n",
    "        return x\n",
    "            \n",
    "net = Maxwell() \n",
    "print(net)"
   ]
  },
  {
   "cell_type": "code",
   "execution_count": 5,
   "metadata": {},
   "outputs": [
    {
     "name": "stdout",
     "output_type": "stream",
     "text": [
      "Loss: 1.09217 Test-Loss: 4.42242 Iterations: 0\n",
      "Loss: 0.58326 Test-Loss: 2.10513 Iterations: 1000\n",
      "Loss: 0.52147 Test-Loss: 1.86774 Iterations: 2000\n",
      "Loss: 0.43435 Test-Loss: 1.54092 Iterations: 3000\n",
      "Loss: 0.32685 Test-Loss: 1.13888 Iterations: 4000\n",
      "Loss: 0.22167 Test-Loss: 0.74406 Iterations: 5000\n",
      "Loss: 0.14265 Test-Loss: 0.44474 Iterations: 6000\n",
      "Loss: 0.09188 Test-Loss: 0.25056 Iterations: 7000\n",
      "Loss: 0.05781 Test-Loss: 0.12207 Iterations: 8000\n",
      "Loss: 0.03626 Test-Loss: 0.04738 Iterations: 9000\n",
      "Loss: 0.02625 Test-Loss: 0.01999 Iterations: 10000\n",
      "Loss: 0.02242 Test-Loss: 0.01527 Iterations: 11000\n",
      "Loss: 0.01993 Test-Loss: 0.01474 Iterations: 12000\n",
      "Loss: 0.01734 Test-Loss: 0.01415 Iterations: 13000\n",
      "Loss: 0.01453 Test-Loss: 0.01326 Iterations: 14000\n",
      "Loss: 0.01164 Test-Loss: 0.01214 Iterations: 15000\n",
      "Loss: 0.00886 Test-Loss: 0.01085 Iterations: 16000\n",
      "Loss: 0.00640 Test-Loss: 0.00944 Iterations: 17000\n",
      "Loss: 0.00440 Test-Loss: 0.00798 Iterations: 18000\n",
      "Loss: 0.00293 Test-Loss: 0.00656 Iterations: 19000\n",
      "Loss: 0.00193 Test-Loss: 0.00527 Iterations: 20000\n",
      "Loss: 0.00127 Test-Loss: 0.00415 Iterations: 21000\n",
      "Loss: 0.00087 Test-Loss: 0.00321 Iterations: 22000\n",
      "Final Loss: 0.00300\n",
      "Number of iterations: 22248\n",
      "Run-Time: 26.0220 s\n"
     ]
    }
   ],
   "source": [
    "import torch.optim as optim\n",
    "import time\n",
    "\n",
    "start_time = time.time()\n",
    "\n",
    "tol = 3e-3\n",
    "max_iter = 50000\n",
    "iterations = 0 \n",
    "loss_test = tol + 1\n",
    "\n",
    "optimizer = optim.Adam(net.parameters(), lr=1e-5) \n",
    "criterion = nn.MSELoss()\n",
    "\n",
    "while(iterations < max_iter and loss_test > tol):\n",
    "    \n",
    "    out = net(inp_training)\n",
    "\n",
    "    optimizer.zero_grad()\n",
    "    loss = criterion(out, target_training) \n",
    "    loss_test = criterion(net(inp_test), target_test)\n",
    "    if(iterations % 1000 == 0):\n",
    "        print(\"Loss: %.5f\" % loss, \"Test-Loss: %.5f\" % loss_test, \"Iterations: %.0f\" % iterations)\n",
    "\n",
    "    loss.backward() \n",
    "    optimizer.step() \n",
    "    iterations += 1\n",
    "\n",
    "print(\"Final Loss: %.5f\" % loss_test) \n",
    "\n",
    "print(\"Number of iterations: %.0f\" % iterations)\n",
    "\n",
    "time_taken = time.time() - start_time\n",
    "print(\"Run-Time: %.4f s\" % time_taken)"
   ]
  },
  {
   "cell_type": "code",
   "execution_count": 12,
   "metadata": {},
   "outputs": [
    {
     "data": {
      "text/plain": [
       "Text(0.5, 0, 'Nummerierung i der Input-Target-Paare')"
      ]
     },
     "execution_count": 12,
     "metadata": {},
     "output_type": "execute_result"
    },
    {
     "data": {
      "image/png": "[encoded data removed]",
      "text/plain": [
       "<Figure size 640x480 with 1 Axes>"
      ]
     },
     "metadata": {},
     "output_type": "display_data"
    }
   ],
   "source": [
    "import matplotlib.pyplot as plt\n",
    "\n",
    "interface_switched = []\n",
    "with open('training_data/interface_1_0_1_training.csv') as csvdatei1:\n",
    "    csv_reader_object1 = csv.reader(csvdatei1, delimiter=';')\n",
    "    csv_to_list(csv_reader_object1, interface_switched)\n",
    "    \n",
    "with open('training_data/interface_0_1_1_training.csv') as csvdatei2:\n",
    "    csv_reader_object2 = csv.reader(csvdatei2, delimiter=';')\n",
    "    csv_to_list(csv_reader_object2, interface_switched)\n",
    "    \n",
    "interface_switched = torch.Tensor(interface_switched)\n",
    "\n",
    "interface_switched_test = []\n",
    "with open('training_data/interface_1_0_1_test.csv') as csvdatei3:\n",
    "    csv_reader_object3 = csv.reader(csvdatei3, delimiter=';')\n",
    "    csv_to_list(csv_reader_object3, interface_switched_test)\n",
    "    \n",
    "with open('training_data/interface_0_1_1_test.csv') as csvdatei4:\n",
    "    csv_reader_object4 = csv.reader(csvdatei4, delimiter=';')\n",
    "    csv_to_list(csv_reader_object4, interface_switched_test)\n",
    "\n",
    "interface_switched_test = torch.Tensor(interface_switched_test)\n",
    "\n",
    "g01_1_training = []\n",
    "with open('training_data/interface_0_1_1_training.csv') as csvdatei5:\n",
    "    csv_reader_object5 = csv.reader(csvdatei5, delimiter=';')\n",
    "    csv_to_list(csv_reader_object5, g01_1_training)\n",
    "    \n",
    "g01_1_training = torch.Tensor(g01_1_training)\n",
    "\n",
    "g01_1_test = []\n",
    "with open('training_data/interface_0_1_1_test.csv') as csvdatei6:\n",
    "    csv_reader_object6 = csv.reader(csvdatei6, delimiter=';')\n",
    "    csv_to_list(csv_reader_object6, g01_1_test)\n",
    "    \n",
    "g01_1_test = torch.Tensor(g01_1_test)\n",
    "\n",
    "\n",
    "n1 = 0\n",
    "n2 = target_training.size()[0]\n",
    "n3 = target_test.size()[0]\n",
    "\n",
    "x1 = [i for i in range(n2)]\n",
    "y11 = [target_training.tolist()[i][n1] for i in range(n2)]\n",
    "y12 = [(net(inp_training) - target_training).tolist()[i][n1] for i in range(n2)]\n",
    "#y13 = [(interface_switched - target).tolist()[i][n1] for i in range(n2)]\n",
    "y13 = [(interface_training - target_training).tolist()[i][n1] for i in range(n2)]\n",
    "y14 = [(g01_1_training - target_training).tolist()[i][n1] for i in range(n2)]\n",
    "\n",
    "x2 = [i for i in range(n3)]\n",
    "y21 = [target_test.tolist()[i][n1] for i in range(n3)]\n",
    "y22 = [(net(inp_test) - target_test).tolist()[i][n1] for i in range(n3)]\n",
    "#y23 = [(interface_switched_test - target_test).tolist()[i][n1] for i in range(n3)]\n",
    "y23 = [(interface_test - target_test).tolist()[i][n1] for i in range(n3)]\n",
    "y24 = [(g01_1_test - target_test).tolist()[i][n1] for i in range(n3)]\n",
    "#print(x)\n",
    "\n",
    "\n",
    "#plt.plot(x1, y12)\n",
    "#plt.plot(x1, y14)\n",
    "#plt.plot(x1, y11)\n",
    "\n",
    "plt.plot(x2, y22)\n",
    "plt.plot(x2, y24)\n",
    "#plt.plot(x2, y21)\n",
    "\n",
    "plt.xlabel(\"Nummerierung i der Input-Target-Paare\")"
   ]
  },
  {
   "cell_type": "code",
   "execution_count": 8,
   "metadata": {},
   "outputs": [
    {
     "name": "stdout",
     "output_type": "stream",
     "text": [
      "torch.Size([16, 16])\n"
     ]
    }
   ],
   "source": [
    "interface = []\n",
    "solution = []\n",
    "\n",
    "with open('KirasFM-NN/interface_1_0_1.csv') as csvdatei1:\n",
    "    csv_reader_object1 = csv.reader(csvdatei1, delimiter=';')\n",
    "    csv_to_list(csv_reader_object1, interface)        \n",
    "        \n",
    "with open('KirasFM-NN/solution_1_1.csv') as csvdatei2:\n",
    "    csv_reader_object2 = csv.reader(csvdatei2, delimiter=';')\n",
    "    csv_to_list(csv_reader_object2, solution)\n",
    "    \n",
    "interface = torch.Tensor(interface)\n",
    "solution = torch.Tensor(solution)\n",
    "inp = torch.cat((interface, solution), 1)\n",
    "print(inp.size())\n",
    "\n",
    "out_list = net(inp).tolist()\n",
    "\n",
    "with open('KirasFM-NN/interface_0_1_nn.csv', 'w') as interface_0_1_nn:\n",
    "    writer = csv.writer(interface_0_1_nn, delimiter=';', escapechar=' ', quoting=csv.QUOTE_NONE)\n",
    "    \n",
    "    for i in range(len(out_list)):\n",
    "        row = []\n",
    "        for j in range(4):\n",
    "            row += [(out_list[i][2*j],out_list[i][2*j+1]),'(0,0)']\n",
    "        row += ' '\n",
    "        writer.writerow(row)"
   ]
  },
  {
   "cell_type": "code",
   "execution_count": null,
   "metadata": {},
   "outputs": [],
   "source": []
  }
 ],
 "metadata": {
  "kernelspec": {
   "display_name": "Python 3 (ipykernel)",
   "language": "python",
   "name": "python3"
  },
  "language_info": {
   "codemirror_mode": {
    "name": "ipython",
    "version": 3
   },
   "file_extension": ".py",
   "mimetype": "text/x-python",
   "name": "python",
   "nbconvert_exporter": "python",
   "pygments_lexer": "ipython3",
   "version": "3.12.4"
  }
 },
 "nbformat": 4,
 "nbformat_minor": 4
}
