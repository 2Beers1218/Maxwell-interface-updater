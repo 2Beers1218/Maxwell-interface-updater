{
 "cells": [
  {
   "cell_type": "code",
   "execution_count": 1,
   "metadata": {},
   "outputs": [],
   "source": [
    "interface_training = []\n",
    "solution_training = []\n",
    "target_training = []"
   ]
  },
  {
   "cell_type": "code",
   "execution_count": 2,
   "metadata": {},
   "outputs": [
    {
     "name": "stdout",
     "output_type": "stream",
     "text": [
      "torch.Size([592, 16])\n",
      "torch.Size([592, 8])\n"
     ]
    }
   ],
   "source": [
    "import torch\n",
    "import csv\n",
    "\n",
    "def csv_to_list(csv_reader_object, list_object):\n",
    "    for row in csv_reader_object:\n",
    "        full_row = []\n",
    "        for i in range(4):\n",
    "            col = row[i].replace('(', '')\n",
    "            col = col.replace(')', '')\n",
    "            col = col.replace(',', ' ')\n",
    "            col = col.split()\n",
    "            full_row += [float(col[j]) for j in range(2)]\n",
    "        list_object += [full_row]\n",
    "        \n",
    "if torch.is_tensor(interface_training):\n",
    "    interface_training = interface_training.tolist()\n",
    "    \n",
    "if torch.is_tensor(solution_training):\n",
    "    solution_training = solution_training.tolist()\n",
    "    \n",
    "if torch.is_tensor(target_training):\n",
    "    target_training = target_training.tolist()\n",
    "\n",
    "\n",
    "with open('training_data/interface_0_1_1_training.csv') as csvdatei1:\n",
    "    csv_reader_object1 = csv.reader(csvdatei1, delimiter=';')\n",
    "    csv_to_list(csv_reader_object1, interface_training)\n",
    "        \n",
    "        \n",
    "with open('training_data/solution_0_1_training.csv') as csvdatei2:\n",
    "    csv_reader_object2 = csv.reader(csvdatei2, delimiter=';')\n",
    "    csv_to_list(csv_reader_object2, solution_training)\n",
    "                \n",
    "        \n",
    "with open('training_data/interface_1_0_4_training.csv') as csvdatei3:\n",
    "    csv_reader_object3 = csv.reader(csvdatei3, delimiter=';')\n",
    "    csv_to_list(csv_reader_object3, target_training)\n",
    "        \n",
    "        \n",
    "interface_training = torch.Tensor(interface_training)\n",
    "#print(interface)\n",
    "\n",
    "solution_training = torch.Tensor(solution_training)\n",
    "#print(solution)\n",
    "\n",
    "inp_training = torch.cat((interface_training, solution_training), 1)\n",
    "#inp = solution\n",
    "print(inp_training.size())\n",
    "\n",
    "target_training = torch.Tensor(target_training)\n",
    "#target += interface\n",
    "print(target_training.size())\n",
    "#print(inp)"
   ]
  },
  {
   "cell_type": "code",
   "execution_count": 3,
   "metadata": {},
   "outputs": [
    {
     "name": "stdout",
     "output_type": "stream",
     "text": [
      "torch.Size([16, 16])\n",
      "torch.Size([16, 8])\n"
     ]
    }
   ],
   "source": [
    "interface_test = []\n",
    "solution_test = []\n",
    "target_test = []\n",
    "\n",
    "with open('training_data/interface_0_1_1_test.csv') as csvdatei1:\n",
    "    csv_reader_object1 = csv.reader(csvdatei1, delimiter=';')\n",
    "    csv_to_list(csv_reader_object1, interface_test)\n",
    "        \n",
    "        \n",
    "with open('training_data/solution_0_1_test.csv') as csvdatei2:\n",
    "    csv_reader_object2 = csv.reader(csvdatei2, delimiter=';')\n",
    "    csv_to_list(csv_reader_object2, solution_test)\n",
    "                \n",
    "        \n",
    "with open('training_data/interface_1_0_4_test.csv') as csvdatei3:\n",
    "    csv_reader_object3 = csv.reader(csvdatei3, delimiter=';')\n",
    "    csv_to_list(csv_reader_object3, target_test)\n",
    "    \n",
    "        \n",
    "interface_test = torch.Tensor(interface_test)\n",
    "#print(interface_test)\n",
    "\n",
    "solution_test = torch.Tensor(solution_test)\n",
    "#print(solution_test)\n",
    "\n",
    "inp_test = torch.cat((interface_test, solution_test), 1)\n",
    "#inp_test = solution_test\n",
    "print(inp_test.size())\n",
    "\n",
    "target_test = torch.Tensor(target_test)\n",
    "#target_test += interface_test\n",
    "print(target_test.size())\n",
    "#print(inp_test)"
   ]
  },
  {
   "cell_type": "code",
   "execution_count": 5,
   "metadata": {},
   "outputs": [
    {
     "name": "stdout",
     "output_type": "stream",
     "text": [
      "Maxwell(\n",
      "  (lin1): Linear(in_features=16, out_features=500, bias=True)\n",
      "  (lin2): Linear(in_features=500, out_features=8, bias=True)\n",
      ")\n"
     ]
    }
   ],
   "source": [
    "import torch.nn as nn\n",
    "import torch.nn.functional as F\n",
    "\n",
    "class Maxwell(nn.Module): #Definition des Netzes\n",
    "    def __init__(self): #Deklarierung der Anzahl an Layern und Neuronen\n",
    "        super(Maxwell, self).__init__()\n",
    "        self.lin1 = nn.Linear(16, 500) #Input-Layer: 1 Neuron, 1. Hidden-Layer: 100 Neuronen\n",
    "        self.lin2 = nn.Linear(500, 8) #2. Hidden-Layer: 50 Neuronen\n",
    "        #self.lin3 = nn.Linear(100, 8) #Output-Layer: 1 Neuron\n",
    "        \n",
    "    def forward(self, x): #Deklarierung der Aktivierungsfunktionen pro Layer\n",
    "        x = torch.sigmoid(self.lin1(x)) #x = F.logsigmoid(self.lin1(x)) #Tangens Hyperbolicus\n",
    "        #x = F.relu(self.lin1(x))\n",
    "        x = self.lin2(x) #Identität\n",
    "        #x = self.lin3(x) \n",
    "        return x\n",
    "            \n",
    "net = Maxwell() #Initialisierung des Netzes\n",
    "print(net) #Ausgabe des Netzes\n",
    "\n",
    "#print(net(inp))"
   ]
  },
  {
   "cell_type": "code",
   "execution_count": 6,
   "metadata": {},
   "outputs": [
    {
     "name": "stdout",
     "output_type": "stream",
     "text": [
      "Loss: 0.07869 Test-Loss: 0.21774 Iterations: 0\n",
      "Loss: 0.00951 Test-Loss: 0.02224 Iterations: 1000\n",
      "Loss: 0.00257 Test-Loss: 0.00533 Iterations: 2000\n",
      "Final Loss: 0.00300\n",
      "Number of iterations: 2621\n",
      "Run-Time: 4.1589 s\n"
     ]
    }
   ],
   "source": [
    "import torch.optim as optim\n",
    "import time\n",
    "\n",
    "start_time = time.time()\n",
    "\n",
    "tol = 3e-3\n",
    "max_iter = 30000\n",
    "iterations = 0 #Anzahl der Trainingsschritte\n",
    "loss_test = tol + 1\n",
    "\n",
    "optimizer = optim.Adam(net.parameters(), lr=1e-5) #Wahl des Optimierungsverfahrens (hier: Adam) \n",
    "                                                   #inkl. Lernrate\n",
    "criterion = nn.MSELoss() #Wahl der Errorfunktion (hier: MSE)\n",
    "\n",
    "while(iterations < max_iter and loss_test > tol): #Training\n",
    "    \n",
    "    out = net(inp_training)\n",
    "\n",
    "    optimizer.zero_grad()\n",
    "    loss = criterion(out, target_training) #Berechnung des Fehlers\n",
    "    loss_test = criterion(net(inp_test), target_test)\n",
    "    if(iterations % 1000 == 0):\n",
    "        print(\"Loss: %.5f\" % loss, \"Test-Loss: %.5f\" % loss_test, \"Iterations: %.0f\" % iterations)\n",
    "\n",
    "    loss.backward() #Berechnung der Ableitung des Fehlers\n",
    "    optimizer.step() #Optimierung der Netzparameter\n",
    "    iterations += 1\n",
    "\n",
    "print(\"Final Loss: %.5f\" % loss_test) #Ausgabe des Fehlers nach dem Training\n",
    "\n",
    "print(\"Number of iterations: %.0f\" % iterations)\n",
    "\n",
    "time_taken = time.time() - start_time\n",
    "print(\"Run-Time: %.4f s\" % time_taken) #Ausgabe der Laufzeit"
   ]
  },
  {
   "cell_type": "code",
   "execution_count": 6,
   "metadata": {},
   "outputs": [
    {
     "data": {
      "text/plain": [
       "Text(0.5, 0, 'Nummerierung i der Input-Target-Paare')"
      ]
     },
     "execution_count": 6,
     "metadata": {},
     "output_type": "execute_result"
    },
    {
     "data": {
      "image/png": "[encoded data removed]",
      "text/plain": [
       "<Figure size 640x480 with 1 Axes>"
      ]
     },
     "metadata": {},
     "output_type": "display_data"
    }
   ],
   "source": [
    "import matplotlib.pyplot as plt\n",
    "\n",
    "interface_switched = []\n",
    "with open('training_data/interface_1_0_1_training.csv') as csvdatei1:\n",
    "    csv_reader_object1 = csv.reader(csvdatei1, delimiter=';')\n",
    "    csv_to_list(csv_reader_object1, interface_switched)\n",
    "    \n",
    "with open('training_data/interface_0_1_1_training.csv') as csvdatei2:\n",
    "    csv_reader_object2 = csv.reader(csvdatei2, delimiter=';')\n",
    "    csv_to_list(csv_reader_object2, interface_switched)\n",
    "    \n",
    "interface_switched = torch.Tensor(interface_switched)\n",
    "\n",
    "interface_switched_test = []\n",
    "with open('training_data/interface_1_0_1_test.csv') as csvdatei3:\n",
    "    csv_reader_object3 = csv.reader(csvdatei3, delimiter=';')\n",
    "    csv_to_list(csv_reader_object3, interface_switched_test)\n",
    "    \n",
    "with open('training_data/interface_0_1_1_test.csv') as csvdatei4:\n",
    "    csv_reader_object4 = csv.reader(csvdatei4, delimiter=';')\n",
    "    csv_to_list(csv_reader_object4, interface_switched_test)\n",
    "\n",
    "interface_switched_test = torch.Tensor(interface_switched_test)\n",
    "\n",
    "g10_1_training = []\n",
    "with open('training_data/interface_1_0_1_training.csv') as csvdatei5:\n",
    "    csv_reader_object5 = csv.reader(csvdatei5, delimiter=';')\n",
    "    csv_to_list(csv_reader_object5, g10_1_training)\n",
    "    \n",
    "g10_1_training = torch.Tensor(g10_1_training)\n",
    "\n",
    "g10_1_test = []\n",
    "with open('training_data/interface_1_0_1_test.csv') as csvdatei6:\n",
    "    csv_reader_object6 = csv.reader(csvdatei6, delimiter=';')\n",
    "    csv_to_list(csv_reader_object6, g10_1_test)\n",
    "    \n",
    "g10_1_test = torch.Tensor(g10_1_test)\n",
    "\n",
    "\n",
    "n1 = 0\n",
    "n2 = target_training.size()[0]\n",
    "n3 = target_test.size()[0]\n",
    "\n",
    "x1 = [i for i in range(n2)]\n",
    "y11 = [target_training.tolist()[i][n1] for i in range(n2)]\n",
    "y12 = [(net(inp_training) - target_training).tolist()[i][n1] for i in range(n2)]\n",
    "#y13 = [(interface_switched - target).tolist()[i][n1] for i in range(n2)]\n",
    "y13 = [(interface_training - target_training).tolist()[i][n1] for i in range(n2)]\n",
    "y14 = [(g10_1_training - target_training).tolist()[i][n1] for i in range(n2)]\n",
    "\n",
    "x2 = [i for i in range(n3)]\n",
    "y21 = [target_test.tolist()[i][n1] for i in range(n3)]\n",
    "y22 = [(net(inp_test) - target_test).tolist()[i][n1] for i in range(n3)]\n",
    "#y23 = [(interface_switched_test - target_test).tolist()[i][n1] for i in range(n3)]\n",
    "y23 = [(interface_test - target_test).tolist()[i][n1] for i in range(n3)]\n",
    "y24 = [(g10_1_test - target_test).tolist()[i][n1] for i in range(n3)]\n",
    "#print(x)\n",
    "\n",
    "\n",
    "#plt.plot(x1, y12)\n",
    "#plt.plot(x1, y14)\n",
    "#plt.plot(x1, y11)\n",
    "\n",
    "plt.plot(x2, y22)\n",
    "plt.plot(x2, y24)\n",
    "#plt.plot(x2, y21)\n",
    "\n",
    "plt.xlabel(\"Nummerierung i der Input-Target-Paare\")"
   ]
  },
  {
   "cell_type": "code",
   "execution_count": 18,
   "metadata": {},
   "outputs": [
    {
     "name": "stdout",
     "output_type": "stream",
     "text": [
      "torch.Size([16, 16])\n"
     ]
    }
   ],
   "source": [
    "interface = []\n",
    "solution = []\n",
    "\n",
    "with open('KirasFM-NN/interface_0_1_1.csv') as csvdatei1:\n",
    "    csv_reader_object1 = csv.reader(csvdatei1, delimiter=';')\n",
    "    csv_to_list(csv_reader_object1, interface)        \n",
    "        \n",
    "with open('KirasFM-NN/solution_0_1.csv') as csvdatei2:\n",
    "    csv_reader_object2 = csv.reader(csvdatei2, delimiter=';')\n",
    "    csv_to_list(csv_reader_object2, solution)\n",
    "    \n",
    "interface = torch.Tensor(interface)\n",
    "solution = torch.Tensor(solution)\n",
    "inp = torch.cat((interface, solution), 1)\n",
    "print(inp.size())\n",
    "\n",
    "out_list = net(inp).tolist()\n",
    "\n",
    "with open('KirasFM-NN/interface_1_0_nn.csv', 'w') as interface_1_0_nn:\n",
    "    writer = csv.writer(interface_1_0_nn, delimiter=';', escapechar=' ', quoting=csv.QUOTE_NONE)\n",
    "    \n",
    "    for i in range(len(out_list)):\n",
    "        row = []\n",
    "        for j in range(4):\n",
    "            row += [(out_list[i][2*j],out_list[i][2*j+1]),'(0,0)']\n",
    "        row += ' '\n",
    "        writer.writerow(row)"
   ]
  },
  {
   "cell_type": "code",
   "execution_count": null,
   "metadata": {},
   "outputs": [],
   "source": []
  }
 ],
 "metadata": {
  "kernelspec": {
   "display_name": "Python 3 (ipykernel)",
   "language": "python",
   "name": "python3"
  },
  "language_info": {
   "codemirror_mode": {
    "name": "ipython",
    "version": 3
   },
   "file_extension": ".py",
   "mimetype": "text/x-python",
   "name": "python",
   "nbconvert_exporter": "python",
   "pygments_lexer": "ipython3",
   "version": "3.12.4"
  }
 },
 "nbformat": 4,
 "nbformat_minor": 4
}
